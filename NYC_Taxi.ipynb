{
 "cells": [
  {
   "cell_type": "markdown",
   "metadata": {},
   "source": [
    "# Question 1"
   ]
  },
  {
   "cell_type": "markdown",
   "metadata": {},
   "source": [
    "## Programmatically download and load the trip data for September 2015"
   ]
  },
  {
   "cell_type": "markdown",
   "metadata": {},
   "source": [
    "- Find the link of data from the website. Both yellow and green taxi datasets are downloaded. \n",
    "- Both basic yellow taxi and green taxi dataset are stored but **further analysis will focus on the green taxi**, as is suggested in the question.\n",
    "- Use `pandas` library to read directly from url."
   ]
  },
  {
   "cell_type": "code",
   "execution_count": 126,
   "metadata": {
    "collapsed": true
   },
   "outputs": [],
   "source": [
    "# load data and convert to dateframe\n",
    "import pandas as pd\n",
    "url_yellow = 'https://s3.amazonaws.com/nyc-tlc/trip+data/yellow_tripdata_2015-09.csv'\n",
    "url_green = 'https://s3.amazonaws.com/nyc-tlc/trip+data/green_tripdata_2015-09.csv'\n",
    "yellow = pd.read_csv(url_yellow)\n",
    "green = pd.read_csv(url_green)"
   ]
  },
  {
   "cell_type": "markdown",
   "metadata": {},
   "source": [
    "## Show the dataset and count the rows and columns"
   ]
  },
  {
   "cell_type": "markdown",
   "metadata": {},
   "source": [
    "- For yellow taxi dataset, there are 11225063 rows and 19 columns. \n",
    "- For green taxi dataset, there are 1494926 rows and 21 columns."
   ]
  },
  {
   "cell_type": "markdown",
   "metadata": {},
   "source": [
    "### Yellow Taxi"
   ]
  },
  {
   "cell_type": "code",
   "execution_count": 13,
   "metadata": {},
   "outputs": [
    {
     "data": {
      "text/plain": [
       "(11225063, 19)"
      ]
     },
     "execution_count": 13,
     "metadata": {},
     "output_type": "execute_result"
    }
   ],
   "source": [
    "# show the number of row and column \n",
    "yellow.shape"
   ]
  },
  {
   "cell_type": "code",
   "execution_count": 9,
   "metadata": {},
   "outputs": [
    {
     "data": {
      "text/html": [
       "<div>\n",
       "<style>\n",
       "    .dataframe thead tr:only-child th {\n",
       "        text-align: right;\n",
       "    }\n",
       "\n",
       "    .dataframe thead th {\n",
       "        text-align: left;\n",
       "    }\n",
       "\n",
       "    .dataframe tbody tr th {\n",
       "        vertical-align: top;\n",
       "    }\n",
       "</style>\n",
       "<table border=\"1\" class=\"dataframe\">\n",
       "  <thead>\n",
       "    <tr style=\"text-align: right;\">\n",
       "      <th></th>\n",
       "      <th>VendorID</th>\n",
       "      <th>tpep_pickup_datetime</th>\n",
       "      <th>tpep_dropoff_datetime</th>\n",
       "      <th>passenger_count</th>\n",
       "      <th>trip_distance</th>\n",
       "      <th>pickup_longitude</th>\n",
       "      <th>pickup_latitude</th>\n",
       "      <th>RatecodeID</th>\n",
       "      <th>store_and_fwd_flag</th>\n",
       "      <th>dropoff_longitude</th>\n",
       "      <th>dropoff_latitude</th>\n",
       "      <th>payment_type</th>\n",
       "      <th>fare_amount</th>\n",
       "      <th>extra</th>\n",
       "      <th>mta_tax</th>\n",
       "      <th>tip_amount</th>\n",
       "      <th>tolls_amount</th>\n",
       "      <th>improvement_surcharge</th>\n",
       "      <th>total_amount</th>\n",
       "    </tr>\n",
       "  </thead>\n",
       "  <tbody>\n",
       "    <tr>\n",
       "      <th>0</th>\n",
       "      <td>2</td>\n",
       "      <td>2015-09-01 00:05:55</td>\n",
       "      <td>2015-09-01 00:31:02</td>\n",
       "      <td>1</td>\n",
       "      <td>17.45</td>\n",
       "      <td>-73.791351</td>\n",
       "      <td>40.646690</td>\n",
       "      <td>1</td>\n",
       "      <td>N</td>\n",
       "      <td>-73.857437</td>\n",
       "      <td>40.848263</td>\n",
       "      <td>1</td>\n",
       "      <td>47.5</td>\n",
       "      <td>0.5</td>\n",
       "      <td>0.5</td>\n",
       "      <td>5.00</td>\n",
       "      <td>5.54</td>\n",
       "      <td>0.3</td>\n",
       "      <td>59.34</td>\n",
       "    </tr>\n",
       "    <tr>\n",
       "      <th>1</th>\n",
       "      <td>1</td>\n",
       "      <td>2015-09-01 00:05:56</td>\n",
       "      <td>2015-09-01 00:07:42</td>\n",
       "      <td>1</td>\n",
       "      <td>0.40</td>\n",
       "      <td>-73.978935</td>\n",
       "      <td>40.752853</td>\n",
       "      <td>1</td>\n",
       "      <td>N</td>\n",
       "      <td>-73.986061</td>\n",
       "      <td>40.755398</td>\n",
       "      <td>2</td>\n",
       "      <td>3.5</td>\n",
       "      <td>0.5</td>\n",
       "      <td>0.5</td>\n",
       "      <td>0.00</td>\n",
       "      <td>0.00</td>\n",
       "      <td>0.3</td>\n",
       "      <td>4.80</td>\n",
       "    </tr>\n",
       "    <tr>\n",
       "      <th>2</th>\n",
       "      <td>1</td>\n",
       "      <td>2015-09-01 00:05:57</td>\n",
       "      <td>2015-09-01 00:16:48</td>\n",
       "      <td>1</td>\n",
       "      <td>1.50</td>\n",
       "      <td>-73.990891</td>\n",
       "      <td>40.723972</td>\n",
       "      <td>1</td>\n",
       "      <td>N</td>\n",
       "      <td>-74.009560</td>\n",
       "      <td>40.728916</td>\n",
       "      <td>2</td>\n",
       "      <td>9.0</td>\n",
       "      <td>0.5</td>\n",
       "      <td>0.5</td>\n",
       "      <td>0.00</td>\n",
       "      <td>0.00</td>\n",
       "      <td>0.3</td>\n",
       "      <td>10.30</td>\n",
       "    </tr>\n",
       "    <tr>\n",
       "      <th>3</th>\n",
       "      <td>1</td>\n",
       "      <td>2015-09-01 00:05:57</td>\n",
       "      <td>2015-09-01 00:05:57</td>\n",
       "      <td>1</td>\n",
       "      <td>0.00</td>\n",
       "      <td>-73.932655</td>\n",
       "      <td>40.803768</td>\n",
       "      <td>1</td>\n",
       "      <td>N</td>\n",
       "      <td>0.000000</td>\n",
       "      <td>0.000000</td>\n",
       "      <td>2</td>\n",
       "      <td>4.0</td>\n",
       "      <td>0.5</td>\n",
       "      <td>0.5</td>\n",
       "      <td>0.00</td>\n",
       "      <td>0.00</td>\n",
       "      <td>0.3</td>\n",
       "      <td>5.30</td>\n",
       "    </tr>\n",
       "    <tr>\n",
       "      <th>4</th>\n",
       "      <td>1</td>\n",
       "      <td>2015-09-01 00:05:57</td>\n",
       "      <td>2015-09-01 00:30:32</td>\n",
       "      <td>1</td>\n",
       "      <td>7.50</td>\n",
       "      <td>-73.987778</td>\n",
       "      <td>40.738194</td>\n",
       "      <td>1</td>\n",
       "      <td>N</td>\n",
       "      <td>-73.944756</td>\n",
       "      <td>40.828167</td>\n",
       "      <td>1</td>\n",
       "      <td>23.5</td>\n",
       "      <td>0.5</td>\n",
       "      <td>0.5</td>\n",
       "      <td>4.95</td>\n",
       "      <td>0.00</td>\n",
       "      <td>0.3</td>\n",
       "      <td>29.75</td>\n",
       "    </tr>\n",
       "  </tbody>\n",
       "</table>\n",
       "</div>"
      ],
      "text/plain": [
       "   VendorID tpep_pickup_datetime tpep_dropoff_datetime  passenger_count  \\\n",
       "0         2  2015-09-01 00:05:55   2015-09-01 00:31:02                1   \n",
       "1         1  2015-09-01 00:05:56   2015-09-01 00:07:42                1   \n",
       "2         1  2015-09-01 00:05:57   2015-09-01 00:16:48                1   \n",
       "3         1  2015-09-01 00:05:57   2015-09-01 00:05:57                1   \n",
       "4         1  2015-09-01 00:05:57   2015-09-01 00:30:32                1   \n",
       "\n",
       "   trip_distance  pickup_longitude  pickup_latitude  RatecodeID  \\\n",
       "0          17.45        -73.791351        40.646690           1   \n",
       "1           0.40        -73.978935        40.752853           1   \n",
       "2           1.50        -73.990891        40.723972           1   \n",
       "3           0.00        -73.932655        40.803768           1   \n",
       "4           7.50        -73.987778        40.738194           1   \n",
       "\n",
       "  store_and_fwd_flag  dropoff_longitude  dropoff_latitude  payment_type  \\\n",
       "0                  N         -73.857437         40.848263             1   \n",
       "1                  N         -73.986061         40.755398             2   \n",
       "2                  N         -74.009560         40.728916             2   \n",
       "3                  N           0.000000          0.000000             2   \n",
       "4                  N         -73.944756         40.828167             1   \n",
       "\n",
       "   fare_amount  extra  mta_tax  tip_amount  tolls_amount  \\\n",
       "0         47.5    0.5      0.5        5.00          5.54   \n",
       "1          3.5    0.5      0.5        0.00          0.00   \n",
       "2          9.0    0.5      0.5        0.00          0.00   \n",
       "3          4.0    0.5      0.5        0.00          0.00   \n",
       "4         23.5    0.5      0.5        4.95          0.00   \n",
       "\n",
       "   improvement_surcharge  total_amount  \n",
       "0                    0.3         59.34  \n",
       "1                    0.3          4.80  \n",
       "2                    0.3         10.30  \n",
       "3                    0.3          5.30  \n",
       "4                    0.3         29.75  "
      ]
     },
     "execution_count": 9,
     "metadata": {},
     "output_type": "execute_result"
    }
   ],
   "source": [
    "yellow.head(5)"
   ]
  },
  {
   "cell_type": "markdown",
   "metadata": {},
   "source": [
    "### Green Taxi"
   ]
  },
  {
   "cell_type": "code",
   "execution_count": 14,
   "metadata": {},
   "outputs": [
    {
     "data": {
      "text/plain": [
       "(1494926, 21)"
      ]
     },
     "execution_count": 14,
     "metadata": {},
     "output_type": "execute_result"
    }
   ],
   "source": [
    "# show the number of row and column \n",
    "green.shape"
   ]
  },
  {
   "cell_type": "code",
   "execution_count": 8,
   "metadata": {},
   "outputs": [
    {
     "data": {
      "text/html": [
       "<div>\n",
       "<style>\n",
       "    .dataframe thead tr:only-child th {\n",
       "        text-align: right;\n",
       "    }\n",
       "\n",
       "    .dataframe thead th {\n",
       "        text-align: left;\n",
       "    }\n",
       "\n",
       "    .dataframe tbody tr th {\n",
       "        vertical-align: top;\n",
       "    }\n",
       "</style>\n",
       "<table border=\"1\" class=\"dataframe\">\n",
       "  <thead>\n",
       "    <tr style=\"text-align: right;\">\n",
       "      <th></th>\n",
       "      <th>VendorID</th>\n",
       "      <th>lpep_pickup_datetime</th>\n",
       "      <th>Lpep_dropoff_datetime</th>\n",
       "      <th>Store_and_fwd_flag</th>\n",
       "      <th>RateCodeID</th>\n",
       "      <th>Pickup_longitude</th>\n",
       "      <th>Pickup_latitude</th>\n",
       "      <th>Dropoff_longitude</th>\n",
       "      <th>Dropoff_latitude</th>\n",
       "      <th>Passenger_count</th>\n",
       "      <th>...</th>\n",
       "      <th>Fare_amount</th>\n",
       "      <th>Extra</th>\n",
       "      <th>MTA_tax</th>\n",
       "      <th>Tip_amount</th>\n",
       "      <th>Tolls_amount</th>\n",
       "      <th>Ehail_fee</th>\n",
       "      <th>improvement_surcharge</th>\n",
       "      <th>Total_amount</th>\n",
       "      <th>Payment_type</th>\n",
       "      <th>Trip_type</th>\n",
       "    </tr>\n",
       "  </thead>\n",
       "  <tbody>\n",
       "    <tr>\n",
       "      <th>0</th>\n",
       "      <td>2</td>\n",
       "      <td>2015-09-01 00:02:34</td>\n",
       "      <td>2015-09-01 00:02:38</td>\n",
       "      <td>N</td>\n",
       "      <td>5</td>\n",
       "      <td>-73.979485</td>\n",
       "      <td>40.684956</td>\n",
       "      <td>-73.979431</td>\n",
       "      <td>40.685020</td>\n",
       "      <td>1</td>\n",
       "      <td>...</td>\n",
       "      <td>7.8</td>\n",
       "      <td>0.0</td>\n",
       "      <td>0.0</td>\n",
       "      <td>1.95</td>\n",
       "      <td>0.0</td>\n",
       "      <td>NaN</td>\n",
       "      <td>0.0</td>\n",
       "      <td>9.75</td>\n",
       "      <td>1</td>\n",
       "      <td>2.0</td>\n",
       "    </tr>\n",
       "    <tr>\n",
       "      <th>1</th>\n",
       "      <td>2</td>\n",
       "      <td>2015-09-01 00:04:20</td>\n",
       "      <td>2015-09-01 00:04:24</td>\n",
       "      <td>N</td>\n",
       "      <td>5</td>\n",
       "      <td>-74.010796</td>\n",
       "      <td>40.912216</td>\n",
       "      <td>-74.010780</td>\n",
       "      <td>40.912212</td>\n",
       "      <td>1</td>\n",
       "      <td>...</td>\n",
       "      <td>45.0</td>\n",
       "      <td>0.0</td>\n",
       "      <td>0.0</td>\n",
       "      <td>0.00</td>\n",
       "      <td>0.0</td>\n",
       "      <td>NaN</td>\n",
       "      <td>0.0</td>\n",
       "      <td>45.00</td>\n",
       "      <td>1</td>\n",
       "      <td>2.0</td>\n",
       "    </tr>\n",
       "    <tr>\n",
       "      <th>2</th>\n",
       "      <td>2</td>\n",
       "      <td>2015-09-01 00:01:50</td>\n",
       "      <td>2015-09-01 00:04:24</td>\n",
       "      <td>N</td>\n",
       "      <td>1</td>\n",
       "      <td>-73.921410</td>\n",
       "      <td>40.766708</td>\n",
       "      <td>-73.914413</td>\n",
       "      <td>40.764687</td>\n",
       "      <td>1</td>\n",
       "      <td>...</td>\n",
       "      <td>4.0</td>\n",
       "      <td>0.5</td>\n",
       "      <td>0.5</td>\n",
       "      <td>0.50</td>\n",
       "      <td>0.0</td>\n",
       "      <td>NaN</td>\n",
       "      <td>0.3</td>\n",
       "      <td>5.80</td>\n",
       "      <td>1</td>\n",
       "      <td>1.0</td>\n",
       "    </tr>\n",
       "    <tr>\n",
       "      <th>3</th>\n",
       "      <td>2</td>\n",
       "      <td>2015-09-01 00:02:36</td>\n",
       "      <td>2015-09-01 00:06:42</td>\n",
       "      <td>N</td>\n",
       "      <td>1</td>\n",
       "      <td>-73.921387</td>\n",
       "      <td>40.766678</td>\n",
       "      <td>-73.931427</td>\n",
       "      <td>40.771584</td>\n",
       "      <td>1</td>\n",
       "      <td>...</td>\n",
       "      <td>5.0</td>\n",
       "      <td>0.5</td>\n",
       "      <td>0.5</td>\n",
       "      <td>0.00</td>\n",
       "      <td>0.0</td>\n",
       "      <td>NaN</td>\n",
       "      <td>0.3</td>\n",
       "      <td>6.30</td>\n",
       "      <td>2</td>\n",
       "      <td>1.0</td>\n",
       "    </tr>\n",
       "    <tr>\n",
       "      <th>4</th>\n",
       "      <td>2</td>\n",
       "      <td>2015-09-01 00:00:14</td>\n",
       "      <td>2015-09-01 00:04:20</td>\n",
       "      <td>N</td>\n",
       "      <td>1</td>\n",
       "      <td>-73.955482</td>\n",
       "      <td>40.714046</td>\n",
       "      <td>-73.944412</td>\n",
       "      <td>40.714729</td>\n",
       "      <td>1</td>\n",
       "      <td>...</td>\n",
       "      <td>5.0</td>\n",
       "      <td>0.5</td>\n",
       "      <td>0.5</td>\n",
       "      <td>0.00</td>\n",
       "      <td>0.0</td>\n",
       "      <td>NaN</td>\n",
       "      <td>0.3</td>\n",
       "      <td>6.30</td>\n",
       "      <td>2</td>\n",
       "      <td>1.0</td>\n",
       "    </tr>\n",
       "  </tbody>\n",
       "</table>\n",
       "<p>5 rows × 21 columns</p>\n",
       "</div>"
      ],
      "text/plain": [
       "   VendorID lpep_pickup_datetime Lpep_dropoff_datetime Store_and_fwd_flag  \\\n",
       "0         2  2015-09-01 00:02:34   2015-09-01 00:02:38                  N   \n",
       "1         2  2015-09-01 00:04:20   2015-09-01 00:04:24                  N   \n",
       "2         2  2015-09-01 00:01:50   2015-09-01 00:04:24                  N   \n",
       "3         2  2015-09-01 00:02:36   2015-09-01 00:06:42                  N   \n",
       "4         2  2015-09-01 00:00:14   2015-09-01 00:04:20                  N   \n",
       "\n",
       "   RateCodeID  Pickup_longitude  Pickup_latitude  Dropoff_longitude  \\\n",
       "0           5        -73.979485        40.684956         -73.979431   \n",
       "1           5        -74.010796        40.912216         -74.010780   \n",
       "2           1        -73.921410        40.766708         -73.914413   \n",
       "3           1        -73.921387        40.766678         -73.931427   \n",
       "4           1        -73.955482        40.714046         -73.944412   \n",
       "\n",
       "   Dropoff_latitude  Passenger_count     ...      Fare_amount  Extra  MTA_tax  \\\n",
       "0         40.685020                1     ...              7.8    0.0      0.0   \n",
       "1         40.912212                1     ...             45.0    0.0      0.0   \n",
       "2         40.764687                1     ...              4.0    0.5      0.5   \n",
       "3         40.771584                1     ...              5.0    0.5      0.5   \n",
       "4         40.714729                1     ...              5.0    0.5      0.5   \n",
       "\n",
       "   Tip_amount  Tolls_amount  Ehail_fee  improvement_surcharge  Total_amount  \\\n",
       "0        1.95           0.0        NaN                    0.0          9.75   \n",
       "1        0.00           0.0        NaN                    0.0         45.00   \n",
       "2        0.50           0.0        NaN                    0.3          5.80   \n",
       "3        0.00           0.0        NaN                    0.3          6.30   \n",
       "4        0.00           0.0        NaN                    0.3          6.30   \n",
       "\n",
       "   Payment_type  Trip_type   \n",
       "0             1         2.0  \n",
       "1             1         2.0  \n",
       "2             1         1.0  \n",
       "3             2         1.0  \n",
       "4             2         1.0  \n",
       "\n",
       "[5 rows x 21 columns]"
      ]
     },
     "execution_count": 8,
     "metadata": {},
     "output_type": "execute_result"
    }
   ],
   "source": [
    "green.head(5)"
   ]
  },
  {
   "cell_type": "code",
   "execution_count": 72,
   "metadata": {},
   "outputs": [
    {
     "data": {
      "text/plain": [
       "Index([u'VendorID', u'lpep_pickup_datetime', u'Lpep_dropoff_datetime',\n",
       "       u'Store_and_fwd_flag', u'RateCodeID', u'Pickup_longitude',\n",
       "       u'Pickup_latitude', u'Dropoff_longitude', u'Dropoff_latitude',\n",
       "       u'Passenger_count', u'Trip_distance', u'Fare_amount', u'Extra',\n",
       "       u'MTA_tax', u'Tip_amount', u'Tolls_amount', u'Ehail_fee',\n",
       "       u'improvement_surcharge', u'Total_amount', u'Payment_type',\n",
       "       u'Trip_type '],\n",
       "      dtype='object')"
      ]
     },
     "execution_count": 72,
     "metadata": {},
     "output_type": "execute_result"
    }
   ],
   "source": [
    "# show all the columns names in green taxi dataset\n",
    "green.columns"
   ]
  },
  {
   "cell_type": "markdown",
   "metadata": {},
   "source": [
    "# Question 2"
   ]
  },
  {
   "cell_type": "markdown",
   "metadata": {},
   "source": [
    "## Plot a histogram of the number of the trip distance (\"Trip Distance\")."
   ]
  },
  {
   "cell_type": "markdown",
   "metadata": {},
   "source": [
    "- Use `matplotlib` to plot the trip distance histogram. Two subplots are drawn for both yellow taxi and green taxi. \n",
    "- Left plot shows the number of trips that have distance within 30 miles. \n",
    "- Right polt shows the number of trips that have distance within 3 miles."
   ]
  },
  {
   "cell_type": "markdown",
   "metadata": {},
   "source": [
    "### Yellow Taxi"
   ]
  },
  {
   "cell_type": "code",
   "execution_count": 111,
   "metadata": {},
   "outputs": [
    {
     "data": {
      "text/plain": [
       "<matplotlib.figure.Figure at 0x1efa5e6d0>"
      ]
     },
     "metadata": {},
     "output_type": "display_data"
    },
    {
     "data": {
      "image/png": "[encoded data removed]",
      "text/plain": [
       "<matplotlib.figure.Figure at 0x1efa5e690>"
      ]
     },
     "metadata": {},
     "output_type": "display_data"
    }
   ],
   "source": [
    "# plot histogram of yellow taxi dataset\n",
    "import matplotlib.pyplot as plt\n",
    "plt.figure(); plt.figure(figsize=(14,6))\n",
    "plt.subplot(1, 2, 1)\n",
    "plt.hist(yellow['trip_distance'], range=[0, 30], bins = 100); plt.xlabel('Trip Distance') ; plt.ylabel('Numbers'); plt.title('Trips within 30 miles');\n",
    "plt.subplot(1, 2, 2)\n",
    "plt.hist(yellow['trip_distance'], range=[0, 3], bins = 40); plt.xlabel('Trip Distance'); plt.ylabel('Numbers'); plt.title('Trips within 3 miles');\n",
    "plt.show()"
   ]
  },
  {
   "cell_type": "markdown",
   "metadata": {},
   "source": [
    "### Green Taxi"
   ]
  },
  {
   "cell_type": "code",
   "execution_count": 112,
   "metadata": {},
   "outputs": [
    {
     "data": {
      "text/plain": [
       "<matplotlib.figure.Figure at 0x1eff7d0d0>"
      ]
     },
     "metadata": {},
     "output_type": "display_data"
    },
    {
     "data": {
      "image/png": "[encoded data removed]",
      "text/plain": [
       "<matplotlib.figure.Figure at 0x1f01cb110>"
      ]
     },
     "metadata": {},
     "output_type": "display_data"
    }
   ],
   "source": [
    "# plot histogram of green taxi dataset\n",
    "plt.figure(); plt.figure(figsize=(14,6))\n",
    "plt.subplot(1, 2, 1)\n",
    "plt.hist(green['Trip_distance'], range=[0, 30], bins = 100); plt.xlabel('Trip Distance') ; plt.ylabel('Numbers');  plt.title('Trips within 30 miles');\n",
    "plt.subplot(1, 2, 2)\n",
    "plt.hist(green['Trip_distance'], range=[0, 3], bins = 40); plt.xlabel('Trip Distance'); plt.ylabel('Numbers'); plt.title('Trips within 3 miles');\n",
    "plt.show()"
   ]
  },
  {
   "cell_type": "markdown",
   "metadata": {},
   "source": [
    "##  Report any structure you find and any hypotheses you have about that structure."
   ]
  },
  {
   "cell_type": "markdown",
   "metadata": {},
   "source": [
    "- Most the trip distances are in the range from 0 to 25 miles.\n",
    "- For both green taxi and yellow taxi, the most trip distances concentrate around 1 mile (0.5~2.0 miles)\n",
    "- The distriution of the distance is unsymmetric (like Poisson Distribution). The number of trip increases at first but declines quickly after 3 miles. \n",
    "- There is a long tail with distance more than 5 miles. And the number of trips declines to small number.\n",
    "- Interestingly, there are an obvious amount of trips that only have distance less than 0.1 mile."
   ]
  },
  {
   "cell_type": "markdown",
   "metadata": {},
   "source": [
    "## Hypothesis"
   ]
  },
  {
   "cell_type": "markdown",
   "metadata": {},
   "source": [
    "- In New York, most people take a taxi for short distance trip. They tend to choose taxi if the destination is within 3 miles (especially in Manhattan).\n",
    "- Few people are likely to take a taxi for a long distance trip (with distance more than 10 miles).\n",
    "- For a great number of trips within 0.1 miles, it may be because the passengers decide to take off once they get on the car or they decide to use other transportation. For example, if there is a traffic jam and the destination is not very far, they will choose to leave the car soon and walk to the destination. (As forsight of traffic jams is not always available..)"
   ]
  },
  {
   "cell_type": "markdown",
   "metadata": {},
   "source": [
    "# Question 3"
   ]
  },
  {
   "cell_type": "markdown",
   "metadata": {},
   "source": [
    "##  Report mean and median trip distance grouped by hour of day"
   ]
  },
  {
   "cell_type": "markdown",
   "metadata": {},
   "source": [
    "- Extract time from the pick up time column and convert it into datetime.\n",
    "- Filter the wrong distance by excluding record with distance more than 300 miles.\n",
    "- Group the dataset by hour and calculate statistical feature."
   ]
  },
  {
   "cell_type": "code",
   "execution_count": 260,
   "metadata": {
    "collapsed": true
   },
   "outputs": [],
   "source": [
    "# extract time and convert to datatime \n",
    "times = pd.to_datetime(yellow[\"tpep_pickup_datetime\"])\n",
    "# reset the index and name\n",
    "yellow = yellow.set_index(times)\n",
    "yellow.index.names = ['Time']\n",
    "# filter record with distance within 300 miles\n",
    "yellow_filter = yellow.query('trip_distance <= 300')"
   ]
  },
  {
   "cell_type": "code",
   "execution_count": 273,
   "metadata": {
    "collapsed": true
   },
   "outputs": [],
   "source": [
    "# extract time and convert to datatime \n",
    "times = pd.to_datetime(green['lpep_pickup_datetime'])\n",
    "# reset the index and name\n",
    "green = green.set_index(times)\n",
    "green.index.names = ['Time']\n",
    "# filter record with distance within 300 miles\n",
    "green_filter = green.query('Trip_distance <= 300')"
   ]
  },
  {
   "cell_type": "code",
   "execution_count": 274,
   "metadata": {
    "collapsed": true
   },
   "outputs": [],
   "source": [
    "# create new dataframe to store the data\n",
    "hourly_summary = pd.DataFrame()\n",
    "hourly_summary['yellow_distance_mean'] = yellow_filter.trip_distance.resample('H').mean()\n",
    "hourly_summary['yellow_distance_median'] = yellow_filter.trip_distance.resample('H').median()\n",
    "hourly_summary['green_distance_mean'] = green_filter.Trip_distance.resample('H').mean()\n",
    "hourly_summary['green_distance_median'] = green_filter.Trip_distance.resample('H').median()"
   ]
  },
  {
   "cell_type": "code",
   "execution_count": 352,
   "metadata": {},
   "outputs": [
    {
     "data": {
      "text/html": [
       "<div>\n",
       "<style>\n",
       "    .dataframe thead tr:only-child th {\n",
       "        text-align: right;\n",
       "    }\n",
       "\n",
       "    .dataframe thead th {\n",
       "        text-align: left;\n",
       "    }\n",
       "\n",
       "    .dataframe tbody tr th {\n",
       "        vertical-align: top;\n",
       "    }\n",
       "</style>\n",
       "<table border=\"1\" class=\"dataframe\">\n",
       "  <thead>\n",
       "    <tr style=\"text-align: right;\">\n",
       "      <th></th>\n",
       "      <th>yellow_distance_mean</th>\n",
       "      <th>yellow_distance_median</th>\n",
       "      <th>green_distance_mean</th>\n",
       "      <th>green_distance_median</th>\n",
       "    </tr>\n",
       "    <tr>\n",
       "      <th>Time</th>\n",
       "      <th></th>\n",
       "      <th></th>\n",
       "      <th></th>\n",
       "      <th></th>\n",
       "    </tr>\n",
       "  </thead>\n",
       "  <tbody>\n",
       "    <tr>\n",
       "      <th>2015-09-01 00:00:00</th>\n",
       "      <td>3.685162</td>\n",
       "      <td>2.30</td>\n",
       "      <td>3.166337</td>\n",
       "      <td>2.02</td>\n",
       "    </tr>\n",
       "    <tr>\n",
       "      <th>2015-09-01 01:00:00</th>\n",
       "      <td>3.415107</td>\n",
       "      <td>2.26</td>\n",
       "      <td>2.835592</td>\n",
       "      <td>1.92</td>\n",
       "    </tr>\n",
       "    <tr>\n",
       "      <th>2015-09-01 02:00:00</th>\n",
       "      <td>3.530062</td>\n",
       "      <td>2.40</td>\n",
       "      <td>2.854331</td>\n",
       "      <td>1.86</td>\n",
       "    </tr>\n",
       "    <tr>\n",
       "      <th>2015-09-01 03:00:00</th>\n",
       "      <td>3.741960</td>\n",
       "      <td>2.51</td>\n",
       "      <td>2.493597</td>\n",
       "      <td>1.64</td>\n",
       "    </tr>\n",
       "    <tr>\n",
       "      <th>2015-09-01 04:00:00</th>\n",
       "      <td>4.742885</td>\n",
       "      <td>2.94</td>\n",
       "      <td>3.586338</td>\n",
       "      <td>2.08</td>\n",
       "    </tr>\n",
       "  </tbody>\n",
       "</table>\n",
       "</div>"
      ],
      "text/plain": [
       "                     yellow_distance_mean  yellow_distance_median  \\\n",
       "Time                                                                \n",
       "2015-09-01 00:00:00              3.685162                    2.30   \n",
       "2015-09-01 01:00:00              3.415107                    2.26   \n",
       "2015-09-01 02:00:00              3.530062                    2.40   \n",
       "2015-09-01 03:00:00              3.741960                    2.51   \n",
       "2015-09-01 04:00:00              4.742885                    2.94   \n",
       "\n",
       "                     green_distance_mean  green_distance_median  \n",
       "Time                                                             \n",
       "2015-09-01 00:00:00             3.166337                   2.02  \n",
       "2015-09-01 01:00:00             2.835592                   1.92  \n",
       "2015-09-01 02:00:00             2.854331                   1.86  \n",
       "2015-09-01 03:00:00             2.493597                   1.64  \n",
       "2015-09-01 04:00:00             3.586338                   2.08  "
      ]
     },
     "execution_count": 352,
     "metadata": {},
     "output_type": "execute_result"
    }
   ],
   "source": [
    "hourly_summary.head()"
   ]
  },
  {
   "cell_type": "markdown",
   "metadata": {},
   "source": [
    "## Visualize  trip distance and analyze the trip distance regarding to hours"
   ]
  },
  {
   "cell_type": "markdown",
   "metadata": {},
   "source": [
    "- The plot shows the mean and median of trip distance from first three days in Septmber, 2015. \n",
    "- The trips beginned after the midnight usually have a larger distance while the trip beginned around noon usually have a smaller distance."
   ]
  },
  {
   "cell_type": "code",
   "execution_count": 291,
   "metadata": {},
   "outputs": [
    {
     "data": {
      "image/png": "[encoded data removed]",
      "text/plain": [
       "<matplotlib.figure.Figure at 0x1f00c1290>"
      ]
     },
     "metadata": {},
     "output_type": "display_data"
    }
   ],
   "source": [
    "plt.figure(figsize=(14,6));\n",
    "# plot mean trip distance\n",
    "plt.subplot(1, 2, 1)\n",
    "plt.plot(hourly_summary['yellow_distance_mean'][:72])\n",
    "plt.plot(hourly_summary['green_distance_mean'][:72])\n",
    "plt.legend(); plt.xlabel('Time'); plt.ylabel('Trip Distance'); plt.title('Mean Trips Distance');\n",
    "# plot median trip distance\n",
    "plt.subplot(1, 2, 2)\n",
    "plt.plot(hourly_summary['yellow_distance_median'][:72])\n",
    "plt.plot(hourly_summary['green_distance_median'][:72])\n",
    "plt.legend(); plt.xlabel('Time'); plt.ylabel('Trip Distance'); plt.title('Median Trips Distance');\n",
    "plt.show()"
   ]
  },
  {
   "cell_type": "markdown",
   "metadata": {},
   "source": [
    "## Identifying trips that originate or terminate at one of the NYC area airports"
   ]
  },
  {
   "cell_type": "markdown",
   "metadata": {},
   "source": [
    "- Indentify trips from JFK and Newark by filter the ratecodeID for 2 and 3 respectively.\n",
    "- Indentify trips to/from JFK and Newark by filter the dropoff longitude and latitude.\n",
    "- Indentify trips to/from LaGuardia by filter the pickup and dropoff longitude and latitude.\n",
    "- Use the following geographic coordinator:\n",
    "    - JFK: 40.64° N, 73.77° W \n",
    "    - Newark: 40.68° N, 74.17° W \n",
    "    - LaGuardia: 40.77° N, 73.87° W "
   ]
  },
  {
   "cell_type": "markdown",
   "metadata": {},
   "source": [
    "## 1. JFK airport (latitude: 40.64° N ~ 40.65° N, longitude: 73.77° W ~ 73.80° W)\n",
    "- Total number of trips by taxi from/to JFK: 406725 - around 410,000 trips in September 2015.\n",
    "\n",
    "### Yellow Taxi:\n",
    "- Total trips to/from JFK by yellow taxi: 391697\n",
    "    - According to rateCodeID in the dateset, the number of JFK pickup trips is 266896 (close to JFK pickup records).\n",
    "    - According to the coordinator, the number of JFK pickup trips is 269005.\n",
    "    - According to the coordinator, the number of JFK dropoff trips is 100172."
   ]
  },
  {
   "cell_type": "code",
   "execution_count": 378,
   "metadata": {
    "collapsed": true
   },
   "outputs": [],
   "source": [
    "# yellow taxi: query by ratecodeID and coordinator\n",
    "ratecodeID_Y = (yellow['RatecodeID'] == 2)\n",
    "JFK_pickup_Y = ( (yellow['pickup_latitude'] > 40.64) & (yellow['pickup_latitude'] < 40.65) & (yellow['pickup_longitude'] > -73.80) & (yellow['pickup_longitude'] < - 73.77))\n",
    "JFK_dropoff_Y = ( (yellow['dropoff_latitude'] > 40.64) & (yellow['dropoff_latitude'] < 40.65) & (yellow['dropoff_longitude'] > -73.80) & (yellow['dropoff_longitude'] < - 73.77))"
   ]
  },
  {
   "cell_type": "code",
   "execution_count": 379,
   "metadata": {},
   "outputs": [
    {
     "name": "stdout",
     "output_type": "stream",
     "text": [
      "266896 269005 100172\n"
     ]
    }
   ],
   "source": [
    "# check the length of three data source, where the number from ratecodeID and pickup are almost the same.\n",
    "print len(ratecodeID_Y[ratecodeID_Y==True]), len(JFK_pickup_Y[JFK_pickup_Y==True]), len(JFK_dropoff_Y[JFK_dropoff_Y==True])"
   ]
  },
  {
   "cell_type": "code",
   "execution_count": 380,
   "metadata": {},
   "outputs": [
    {
     "data": {
      "text/plain": [
       "391697"
      ]
     },
     "execution_count": 380,
     "metadata": {},
     "output_type": "execute_result"
    }
   ],
   "source": [
    "JFK_Y = ratecodeID_Y | JFK_pickup_Y | JFK_dropoff_Y\n",
    "# total number of JFK trips for yellow taxi\n",
    "len(JFK_Y[JFK_Y==True])"
   ]
  },
  {
   "cell_type": "markdown",
   "metadata": {},
   "source": [
    "### Green Taxi:\n",
    "- Trips from/to JFK by green taxi: 15028\n",
    "    - According to rateCodeID in the dateset, the number of trip from JFK is 4435.\n",
    "    - According to the coordinator, the number of trips from JFK is 285.\n",
    "    - According to the coordinator, the number of trips to JFK is 12849.\n",
    "\n"
   ]
  },
  {
   "cell_type": "code",
   "execution_count": 381,
   "metadata": {
    "collapsed": true
   },
   "outputs": [],
   "source": [
    "# green taxi: query by ratecodeID and coordinator\n",
    "ratecodeID_G = (green['RateCodeID'] == 2)\n",
    "JFK_pickup_G = ( (green['Pickup_latitude'] > 40.64) & (green['Pickup_latitude'] < 40.65) & (green['Pickup_longitude'] > -73.80) & (green['Pickup_longitude'] < - 73.77))\n",
    "JFK_dropoff_G = ( (green['Dropoff_latitude'] > 40.64) & (green['Dropoff_latitude']< 40.65) & (green['Dropoff_longitude'] > -73.80) & (green['Dropoff_longitude'] < - 73.77))"
   ]
  },
  {
   "cell_type": "code",
   "execution_count": 382,
   "metadata": {},
   "outputs": [
    {
     "name": "stdout",
     "output_type": "stream",
     "text": [
      "4435 285 12849\n"
     ]
    }
   ],
   "source": [
    "# check the length of three data source\n",
    "print len(ratecodeID_G[ratecodeID_G==True]), len(JFK_pickup_G[JFK_pickup_G==True]), len(JFK_dropoff_G[JFK_dropoff_G==True])"
   ]
  },
  {
   "cell_type": "code",
   "execution_count": 387,
   "metadata": {},
   "outputs": [
    {
     "data": {
      "text/plain": [
       "15028"
      ]
     },
     "execution_count": 387,
     "metadata": {},
     "output_type": "execute_result"
    }
   ],
   "source": [
    "JFK_G = (ratecodeID_G | JFK_pickup_G | JFK_dropoff_G)\n",
    "len(JFK_G[JFK_G==True])"
   ]
  },
  {
   "cell_type": "code",
   "execution_count": 389,
   "metadata": {},
   "outputs": [
    {
     "data": {
      "text/plain": [
       "406725"
      ]
     },
     "execution_count": 389,
     "metadata": {},
     "output_type": "execute_result"
    }
   ],
   "source": [
    "# total number of taxi from/to JFK\n",
    "JFK = len(JFK_G[JFK_G==True]) + len(JFK_Y[JFK_Y==True])\n",
    "JFK"
   ]
  },
  {
   "cell_type": "markdown",
   "metadata": {},
   "source": [
    "## 2. Newark airport (latitude: 40.66° N ~ 40.70° N, longitude: 74.16° W ~ 74.18° W)\n",
    "- Total number of trips by taxi from/to Newark airport (EWR): 23757 - around 20,000 trips in September 2015.\n",
    "   \n",
    "### Yellow Taxi:\n",
    "- Total trips to/from EWR by yellow taxi: 22412\n",
    "    - According to rateCodeID in the dateset, the number of trips from is 21123.\n",
    "    - According to the coordinator, the number of trips from EWR is 537.\n",
    "    - According to the coordinator, the number of trips to EWR is 114141."
   ]
  },
  {
   "cell_type": "code",
   "execution_count": 390,
   "metadata": {
    "collapsed": true
   },
   "outputs": [],
   "source": [
    "# yellow taxi: query by ratecodeID and coordinator\n",
    "ratecodeID_Y = (yellow['RatecodeID'] == 3)\n",
    "EWR_pickup_Y = ( (yellow['pickup_latitude'] > 40.66) & (yellow['pickup_latitude'] < 40.70) & (yellow['pickup_longitude'] > -74.18) & (yellow['pickup_longitude'] < - 74.16))\n",
    "EWR_dropoff_Y = ( (yellow['dropoff_latitude'] > 40.66) & (yellow['dropoff_latitude'] < 40.70) & (yellow['dropoff_longitude'] > -74.18) & (yellow['dropoff_longitude'] < - 74.16))"
   ]
  },
  {
   "cell_type": "code",
   "execution_count": 391,
   "metadata": {},
   "outputs": [
    {
     "name": "stdout",
     "output_type": "stream",
     "text": [
      "21123 537 14141\n"
     ]
    }
   ],
   "source": [
    "# check the length of three data source\n",
    "print len(ratecodeID_Y[ratecodeID_Y==True]), len(EWR_pickup_Y[EWR_pickup_Y==True]), len(EWR_dropoff_Y[EWR_dropoff_Y==True])"
   ]
  },
  {
   "cell_type": "code",
   "execution_count": 392,
   "metadata": {},
   "outputs": [
    {
     "data": {
      "text/plain": [
       "22412"
      ]
     },
     "execution_count": 392,
     "metadata": {},
     "output_type": "execute_result"
    }
   ],
   "source": [
    "EWR_Y = ratecodeID_Y | EWR_pickup_Y | EWR_dropoff_Y\n",
    "# total number of EWR trips for yellow taxi\n",
    "len(EWR_Y[EWR_Y==True])"
   ]
  },
  {
   "cell_type": "markdown",
   "metadata": {},
   "source": [
    "### Green Taxi:\n",
    "- Trips from/to EWR by green taxi: 1345\n",
    "    - According to rateCodeID in the dateset, the number of trip from EWR is 1117.\n",
    "    - According to the coordinator, the number of trips from EWR is 34.\n",
    "    - According to the coordinator, the number of trips to EWR is 531.\n",
    "\n",
    "\n"
   ]
  },
  {
   "cell_type": "code",
   "execution_count": 393,
   "metadata": {
    "collapsed": true
   },
   "outputs": [],
   "source": [
    "# green taxi: query by ratecodeID and coordinator\n",
    "ratecodeID_G = (green['RateCodeID'] == 3)\n",
    "EWR_pickup_G = ( (green['Pickup_latitude'] > 40.66) & (green['Pickup_latitude'] < 40.70) & (green['Pickup_longitude'] > -74.18) & (green['Pickup_longitude'] < - 74.16))\n",
    "EWR_dropoff_G = ( (green['Dropoff_latitude'] > 40.66) & (green['Dropoff_latitude'] < 40.70) & (green['Dropoff_longitude'] > -74.18) & (green['Dropoff_longitude'] < - 74.16))"
   ]
  },
  {
   "cell_type": "code",
   "execution_count": 394,
   "metadata": {},
   "outputs": [
    {
     "name": "stdout",
     "output_type": "stream",
     "text": [
      "1117 34 531\n"
     ]
    }
   ],
   "source": [
    "# check the length of three data source\n",
    "print len(ratecodeID_G[ratecodeID_G==True]), len(EWR_pickup_G[EWR_pickup_G==True]), len(EWR_dropoff_G[EWR_dropoff_G==True])"
   ]
  },
  {
   "cell_type": "code",
   "execution_count": 395,
   "metadata": {},
   "outputs": [
    {
     "data": {
      "text/plain": [
       "1345"
      ]
     },
     "execution_count": 395,
     "metadata": {},
     "output_type": "execute_result"
    }
   ],
   "source": [
    "EWR_G = ratecodeID_G | EWR_pickup_G | EWR_dropoff_G\n",
    "# total number of EWR trips for green taxi\n",
    "len(EWR_G[EWR_G==True])"
   ]
  },
  {
   "cell_type": "code",
   "execution_count": 396,
   "metadata": {},
   "outputs": [
    {
     "data": {
      "text/plain": [
       "23757"
      ]
     },
     "execution_count": 396,
     "metadata": {},
     "output_type": "execute_result"
    }
   ],
   "source": [
    "# total number of taxi from/to EWR\n",
    "EWR = len(EWR_G[EWR_G==True]) + len(EWR_Y[EWR_Y==True])\n",
    "EWR"
   ]
  },
  {
   "cell_type": "markdown",
   "metadata": {},
   "source": [
    "## 3. LaGuardia airport (latitude: 40.77° N ~ 40.78° N, longitude: 73.86° W ~ 73.89° W)\n",
    "- Total number of taxi from/to LaGuardia airport (LGA): 324243 - around 320,000 trips in September 2015.\n",
    "\n",
    "### Yellow Taxi:\n",
    "- Total trips from/to LGA by yellow taxi: 306337 (there are some common trips for pickup and dropoff)\n",
    "    - According to the coordinator, the number of trips from LGA is 195674.\n",
    "    - According to the coordinator, the number of trips to LGA is 113255."
   ]
  },
  {
   "cell_type": "code",
   "execution_count": 397,
   "metadata": {
    "collapsed": true
   },
   "outputs": [],
   "source": [
    "# yellow taxi: query by coordinator\n",
    "LGA_pickup_Y = ( (yellow['pickup_latitude'] > 40.77) & (yellow['pickup_latitude'] < 40.78) & (yellow['pickup_longitude'] > -73.89) & (yellow['pickup_longitude'] < - 73.86))\n",
    "LGA_dropoff_Y = ( (yellow['dropoff_latitude'] > 40.77) & (yellow['dropoff_latitude'] < 40.78) & (yellow['dropoff_longitude'] > -73.89) & (yellow['dropoff_longitude'] < - 73.86))"
   ]
  },
  {
   "cell_type": "code",
   "execution_count": 398,
   "metadata": {},
   "outputs": [
    {
     "name": "stdout",
     "output_type": "stream",
     "text": [
      "195674 113255\n"
     ]
    }
   ],
   "source": [
    "# check the length of data source\n",
    "print len(LGA_pickup_Y[LGA_pickup_Y==True]), len(LGA_dropoff_Y[LGA_dropoff_Y==True])"
   ]
  },
  {
   "cell_type": "code",
   "execution_count": 400,
   "metadata": {},
   "outputs": [
    {
     "data": {
      "text/plain": [
       "306337"
      ]
     },
     "execution_count": 400,
     "metadata": {},
     "output_type": "execute_result"
    }
   ],
   "source": [
    "# total number of trips from/to LGA by yellow taxi\n",
    "LGA_Y = LGA_pickup_Y | LGA_dropoff_Y\n",
    "len(LGA_Y[LGA_Y==True])"
   ]
  },
  {
   "cell_type": "markdown",
   "metadata": {},
   "source": [
    "### Green Taxi:\n",
    "- Total trips from/to LGA by green taxi: 17906\n",
    "    - According to the coordinator, the number of trips from LGA is 311.\n",
    "    - According to the coordinator, the number of trips to LGA is 17762."
   ]
  },
  {
   "cell_type": "code",
   "execution_count": 372,
   "metadata": {
    "collapsed": true
   },
   "outputs": [],
   "source": [
    "# green taxi: query by coordinator\n",
    "LGA_pickup_G = ( (green['Pickup_latitude'] > 40.77) & (green['Pickup_latitude'] < 40.78) & (green['Pickup_longitude'] > -73.89) & (green['Pickup_longitude'] < - 73.86))\n",
    "LGA_dropoff_G = ( (green['Dropoff_latitude'] > 40.77) & (green['Dropoff_latitude'] < 40.78) & (green['Dropoff_longitude'] > -73.89) & (green['Dropoff_longitude'] < - 73.86))"
   ]
  },
  {
   "cell_type": "code",
   "execution_count": 373,
   "metadata": {},
   "outputs": [
    {
     "name": "stdout",
     "output_type": "stream",
     "text": [
      "311 17762\n"
     ]
    }
   ],
   "source": [
    "# check the length of data source\n",
    "print len(LGA_pickup_G[LGA_pickup_G==True]), len(LGA_dropoff_G[LGA_dropoff_G==True])"
   ]
  },
  {
   "cell_type": "code",
   "execution_count": 407,
   "metadata": {},
   "outputs": [
    {
     "data": {
      "text/plain": [
       "17906"
      ]
     },
     "execution_count": 407,
     "metadata": {},
     "output_type": "execute_result"
    }
   ],
   "source": [
    "# total number of trips from/to LGA by green taxi\n",
    "LGA_G = LGA_pickup_G | LGA_dropoff_G\n",
    "len(LGA_G[LGA_G==True])"
   ]
  },
  {
   "cell_type": "code",
   "execution_count": 408,
   "metadata": {},
   "outputs": [
    {
     "data": {
      "text/plain": [
       "324243"
      ]
     },
     "execution_count": 408,
     "metadata": {},
     "output_type": "execute_result"
    }
   ],
   "source": [
    "# total number of taxi from/to EWR\n",
    "LGA = len(LGA_Y[LGA_Y==True]) + len(LGA_G[LGA_G==True])\n",
    "LGA"
   ]
  },
  {
   "cell_type": "markdown",
   "metadata": {},
   "source": [
    "## Conclusion\n",
    "- Total approximate number of trips by green and yellow taxi to/from of the NYC area airports in September 2015: 750,000.\n",
    "- JFK has the most trips and Newark has the least trips: \n",
    "    - JFK: 410,000\n",
    "    - EWR:  20,000\n",
    "    - LGA: 320,000\n",
    "- Other interesting characteristics of these trips are in the following summary table.\n",
    "(The statistics of the trips are derived by the analysis below. )\n",
    "\n",
    "|         | Yellow Taxi          | Green Taxi  |\n",
    "| :-------------: |:-------------:| :-----:|\n",
    "| Number of trips in total| 720,000 | 30,000 |\n",
    "| Average fare per trip (USD)    |  51.43    |  37.55 |\n",
    "| Average tip per trip (USD) | 5.49    |    3.93 |\n",
    "| Average distance per trip (miles) | 20.27     |    9.03 |\n",
    "\n",
    "\n",
    "\n",
    "### Analysis on characteristics of these trips\n",
    "- The number of trips by yellow taxi is around 720,000 while the number of trips by green taxi is around 30000."
   ]
  },
  {
   "cell_type": "code",
   "execution_count": 415,
   "metadata": {},
   "outputs": [
    {
     "name": "stdout",
     "output_type": "stream",
     "text": [
      "715687 34205\n"
     ]
    }
   ],
   "source": [
    "# total trip numbers by yellow and green taxi\n",
    "airport_Y = JFK_Y | EWR_Y | LGA_Y\n",
    "airport_G = JFK_G | EWR_G | LGA_G\n",
    "print len(airport_Y[airport_Y==True]), len(airport_G[airport_G==True])"
   ]
  },
  {
   "cell_type": "markdown",
   "metadata": {},
   "source": [
    "- The average fare for yellow taxi is 51.43 USD while for green taxi is 37.55 USD."
   ]
  },
  {
   "cell_type": "code",
   "execution_count": 417,
   "metadata": {},
   "outputs": [
    {
     "name": "stdout",
     "output_type": "stream",
     "text": [
      "51.4302488939 37.5510325976\n"
     ]
    }
   ],
   "source": [
    "# average fare for yellow taxi and green taxi\n",
    "print yellow[airport_Y].total_amount.mean(), green[airport_G].Total_amount.mean()"
   ]
  },
  {
   "cell_type": "markdown",
   "metadata": {},
   "source": [
    "- The average tip for yellow taxi is 5.49 USD while for green taxi is 3.93 USD."
   ]
  },
  {
   "cell_type": "code",
   "execution_count": 418,
   "metadata": {},
   "outputs": [
    {
     "name": "stdout",
     "output_type": "stream",
     "text": [
      "5.49137280682 3.93242449934\n"
     ]
    }
   ],
   "source": [
    "# average tip for yellow taxi and green taxi\n",
    "print yellow[airport_Y].tip_amount.mean(), green[airport_G].Tip_amount.mean()"
   ]
  },
  {
   "cell_type": "markdown",
   "metadata": {},
   "source": [
    "- The average distance for trip to airport by yellow taxi is 20.27 miles while for green taxi is 9.03 miles."
   ]
  },
  {
   "cell_type": "code",
   "execution_count": 419,
   "metadata": {},
   "outputs": [
    {
     "name": "stdout",
     "output_type": "stream",
     "text": [
      "20.269541238 9.03418915363\n"
     ]
    }
   ],
   "source": [
    "# average trip distance for yellow taxi and green taxi\n",
    "print yellow[airport_Y].trip_distance.mean(), green[airport_G].Trip_distance.mean()"
   ]
  },
  {
   "cell_type": "markdown",
   "metadata": {},
   "source": [
    "# Question 4"
   ]
  },
  {
   "cell_type": "markdown",
   "metadata": {},
   "source": [
    "## Build a derived variable for tip as a percentage of the total fare"
   ]
  },
  {
   "cell_type": "code",
   "execution_count": 127,
   "metadata": {},
   "outputs": [],
   "source": [
    "#tip_percent_y = yellow['tip_amount'] / yellow['fare_amount'] \n",
    "tip_percent_g = green['Tip_amount']/ green['Fare_amount'] \n",
    "#yellow['tip_percent'] = tip_percent_y\n",
    "green['tip_percent'] = tip_percent_g"
   ]
  },
  {
   "cell_type": "code",
   "execution_count": 430,
   "metadata": {},
   "outputs": [
    {
     "data": {
      "text/html": [
       "<div>\n",
       "<style>\n",
       "    .dataframe thead tr:only-child th {\n",
       "        text-align: right;\n",
       "    }\n",
       "\n",
       "    .dataframe thead th {\n",
       "        text-align: left;\n",
       "    }\n",
       "\n",
       "    .dataframe tbody tr th {\n",
       "        vertical-align: top;\n",
       "    }\n",
       "</style>\n",
       "<table border=\"1\" class=\"dataframe\">\n",
       "  <thead>\n",
       "    <tr style=\"text-align: right;\">\n",
       "      <th></th>\n",
       "      <th>VendorID</th>\n",
       "      <th>lpep_pickup_datetime</th>\n",
       "      <th>Lpep_dropoff_datetime</th>\n",
       "      <th>Store_and_fwd_flag</th>\n",
       "      <th>RateCodeID</th>\n",
       "      <th>Pickup_longitude</th>\n",
       "      <th>Pickup_latitude</th>\n",
       "      <th>Dropoff_longitude</th>\n",
       "      <th>Dropoff_latitude</th>\n",
       "      <th>Passenger_count</th>\n",
       "      <th>...</th>\n",
       "      <th>Extra</th>\n",
       "      <th>MTA_tax</th>\n",
       "      <th>Tip_amount</th>\n",
       "      <th>Tolls_amount</th>\n",
       "      <th>Ehail_fee</th>\n",
       "      <th>improvement_surcharge</th>\n",
       "      <th>Total_amount</th>\n",
       "      <th>Payment_type</th>\n",
       "      <th>Trip_type</th>\n",
       "      <th>tip_percent</th>\n",
       "    </tr>\n",
       "    <tr>\n",
       "      <th>Time</th>\n",
       "      <th></th>\n",
       "      <th></th>\n",
       "      <th></th>\n",
       "      <th></th>\n",
       "      <th></th>\n",
       "      <th></th>\n",
       "      <th></th>\n",
       "      <th></th>\n",
       "      <th></th>\n",
       "      <th></th>\n",
       "      <th></th>\n",
       "      <th></th>\n",
       "      <th></th>\n",
       "      <th></th>\n",
       "      <th></th>\n",
       "      <th></th>\n",
       "      <th></th>\n",
       "      <th></th>\n",
       "      <th></th>\n",
       "      <th></th>\n",
       "      <th></th>\n",
       "    </tr>\n",
       "  </thead>\n",
       "  <tbody>\n",
       "    <tr>\n",
       "      <th>2015-09-01 00:02:34</th>\n",
       "      <td>2</td>\n",
       "      <td>2015-09-01 00:02:34</td>\n",
       "      <td>2015-09-01 00:02:38</td>\n",
       "      <td>N</td>\n",
       "      <td>5</td>\n",
       "      <td>-73.979485</td>\n",
       "      <td>40.684956</td>\n",
       "      <td>-73.979431</td>\n",
       "      <td>40.685020</td>\n",
       "      <td>1</td>\n",
       "      <td>...</td>\n",
       "      <td>0.0</td>\n",
       "      <td>0.0</td>\n",
       "      <td>1.95</td>\n",
       "      <td>0.0</td>\n",
       "      <td>NaN</td>\n",
       "      <td>0.0</td>\n",
       "      <td>9.75</td>\n",
       "      <td>1</td>\n",
       "      <td>2.0</td>\n",
       "      <td>25.0</td>\n",
       "    </tr>\n",
       "    <tr>\n",
       "      <th>2015-09-01 00:04:20</th>\n",
       "      <td>2</td>\n",
       "      <td>2015-09-01 00:04:20</td>\n",
       "      <td>2015-09-01 00:04:24</td>\n",
       "      <td>N</td>\n",
       "      <td>5</td>\n",
       "      <td>-74.010796</td>\n",
       "      <td>40.912216</td>\n",
       "      <td>-74.010780</td>\n",
       "      <td>40.912212</td>\n",
       "      <td>1</td>\n",
       "      <td>...</td>\n",
       "      <td>0.0</td>\n",
       "      <td>0.0</td>\n",
       "      <td>0.00</td>\n",
       "      <td>0.0</td>\n",
       "      <td>NaN</td>\n",
       "      <td>0.0</td>\n",
       "      <td>45.00</td>\n",
       "      <td>1</td>\n",
       "      <td>2.0</td>\n",
       "      <td>0.0</td>\n",
       "    </tr>\n",
       "    <tr>\n",
       "      <th>2015-09-01 00:01:50</th>\n",
       "      <td>2</td>\n",
       "      <td>2015-09-01 00:01:50</td>\n",
       "      <td>2015-09-01 00:04:24</td>\n",
       "      <td>N</td>\n",
       "      <td>1</td>\n",
       "      <td>-73.921410</td>\n",
       "      <td>40.766708</td>\n",
       "      <td>-73.914413</td>\n",
       "      <td>40.764687</td>\n",
       "      <td>1</td>\n",
       "      <td>...</td>\n",
       "      <td>0.5</td>\n",
       "      <td>0.5</td>\n",
       "      <td>0.50</td>\n",
       "      <td>0.0</td>\n",
       "      <td>NaN</td>\n",
       "      <td>0.3</td>\n",
       "      <td>5.80</td>\n",
       "      <td>1</td>\n",
       "      <td>1.0</td>\n",
       "      <td>12.5</td>\n",
       "    </tr>\n",
       "    <tr>\n",
       "      <th>2015-09-01 00:02:36</th>\n",
       "      <td>2</td>\n",
       "      <td>2015-09-01 00:02:36</td>\n",
       "      <td>2015-09-01 00:06:42</td>\n",
       "      <td>N</td>\n",
       "      <td>1</td>\n",
       "      <td>-73.921387</td>\n",
       "      <td>40.766678</td>\n",
       "      <td>-73.931427</td>\n",
       "      <td>40.771584</td>\n",
       "      <td>1</td>\n",
       "      <td>...</td>\n",
       "      <td>0.5</td>\n",
       "      <td>0.5</td>\n",
       "      <td>0.00</td>\n",
       "      <td>0.0</td>\n",
       "      <td>NaN</td>\n",
       "      <td>0.3</td>\n",
       "      <td>6.30</td>\n",
       "      <td>2</td>\n",
       "      <td>1.0</td>\n",
       "      <td>0.0</td>\n",
       "    </tr>\n",
       "    <tr>\n",
       "      <th>2015-09-01 00:00:14</th>\n",
       "      <td>2</td>\n",
       "      <td>2015-09-01 00:00:14</td>\n",
       "      <td>2015-09-01 00:04:20</td>\n",
       "      <td>N</td>\n",
       "      <td>1</td>\n",
       "      <td>-73.955482</td>\n",
       "      <td>40.714046</td>\n",
       "      <td>-73.944412</td>\n",
       "      <td>40.714729</td>\n",
       "      <td>1</td>\n",
       "      <td>...</td>\n",
       "      <td>0.5</td>\n",
       "      <td>0.5</td>\n",
       "      <td>0.00</td>\n",
       "      <td>0.0</td>\n",
       "      <td>NaN</td>\n",
       "      <td>0.3</td>\n",
       "      <td>6.30</td>\n",
       "      <td>2</td>\n",
       "      <td>1.0</td>\n",
       "      <td>0.0</td>\n",
       "    </tr>\n",
       "  </tbody>\n",
       "</table>\n",
       "<p>5 rows × 22 columns</p>\n",
       "</div>"
      ],
      "text/plain": [
       "                     VendorID lpep_pickup_datetime Lpep_dropoff_datetime  \\\n",
       "Time                                                                       \n",
       "2015-09-01 00:02:34         2  2015-09-01 00:02:34   2015-09-01 00:02:38   \n",
       "2015-09-01 00:04:20         2  2015-09-01 00:04:20   2015-09-01 00:04:24   \n",
       "2015-09-01 00:01:50         2  2015-09-01 00:01:50   2015-09-01 00:04:24   \n",
       "2015-09-01 00:02:36         2  2015-09-01 00:02:36   2015-09-01 00:06:42   \n",
       "2015-09-01 00:00:14         2  2015-09-01 00:00:14   2015-09-01 00:04:20   \n",
       "\n",
       "                    Store_and_fwd_flag  RateCodeID  Pickup_longitude  \\\n",
       "Time                                                                   \n",
       "2015-09-01 00:02:34                  N           5        -73.979485   \n",
       "2015-09-01 00:04:20                  N           5        -74.010796   \n",
       "2015-09-01 00:01:50                  N           1        -73.921410   \n",
       "2015-09-01 00:02:36                  N           1        -73.921387   \n",
       "2015-09-01 00:00:14                  N           1        -73.955482   \n",
       "\n",
       "                     Pickup_latitude  Dropoff_longitude  Dropoff_latitude  \\\n",
       "Time                                                                        \n",
       "2015-09-01 00:02:34        40.684956         -73.979431         40.685020   \n",
       "2015-09-01 00:04:20        40.912216         -74.010780         40.912212   \n",
       "2015-09-01 00:01:50        40.766708         -73.914413         40.764687   \n",
       "2015-09-01 00:02:36        40.766678         -73.931427         40.771584   \n",
       "2015-09-01 00:00:14        40.714046         -73.944412         40.714729   \n",
       "\n",
       "                     Passenger_count     ...       Extra  MTA_tax  Tip_amount  \\\n",
       "Time                                     ...                                    \n",
       "2015-09-01 00:02:34                1     ...         0.0      0.0        1.95   \n",
       "2015-09-01 00:04:20                1     ...         0.0      0.0        0.00   \n",
       "2015-09-01 00:01:50                1     ...         0.5      0.5        0.50   \n",
       "2015-09-01 00:02:36                1     ...         0.5      0.5        0.00   \n",
       "2015-09-01 00:00:14                1     ...         0.5      0.5        0.00   \n",
       "\n",
       "                     Tolls_amount  Ehail_fee  improvement_surcharge  \\\n",
       "Time                                                                  \n",
       "2015-09-01 00:02:34           0.0        NaN                    0.0   \n",
       "2015-09-01 00:04:20           0.0        NaN                    0.0   \n",
       "2015-09-01 00:01:50           0.0        NaN                    0.3   \n",
       "2015-09-01 00:02:36           0.0        NaN                    0.3   \n",
       "2015-09-01 00:00:14           0.0        NaN                    0.3   \n",
       "\n",
       "                     Total_amount  Payment_type  Trip_type   tip_percent  \n",
       "Time                                                                      \n",
       "2015-09-01 00:02:34          9.75             1         2.0         25.0  \n",
       "2015-09-01 00:04:20         45.00             1         2.0          0.0  \n",
       "2015-09-01 00:01:50          5.80             1         1.0         12.5  \n",
       "2015-09-01 00:02:36          6.30             2         1.0          0.0  \n",
       "2015-09-01 00:00:14          6.30             2         1.0          0.0  \n",
       "\n",
       "[5 rows x 22 columns]"
      ]
     },
     "execution_count": 430,
     "metadata": {},
     "output_type": "execute_result"
    }
   ],
   "source": [
    "green.head()"
   ]
  },
  {
   "cell_type": "markdown",
   "metadata": {},
   "source": [
    "## Build a predictive model for tip as a percentage of the total fare (using green taxi data)\n",
    "\n",
    "- In this case, we will use **green taxi** dataset to build model.\n",
    "- We will look at the distribution of tips first in the green taxi dataset.\n",
    "\n",
    "### Take a look at the data at first:"
   ]
  },
  {
   "cell_type": "markdown",
   "metadata": {},
   "source": [
    "From below analysis we can see, **59.68%** trips doesn't record a tip, **11.04%** trips without tips are paid by card."
   ]
  },
  {
   "cell_type": "code",
   "execution_count": 5,
   "metadata": {},
   "outputs": [
    {
     "name": "stdout",
     "output_type": "stream",
     "text": [
      "Percent of trips without tips: 59.68%\n",
      "Percent of trips without tips paid by card 11.05% \n"
     ]
    }
   ],
   "source": [
    "# count trips without tips by payment methods\n",
    "no_tip = len(green[green['Tip_amount'] == 0])\n",
    "tip = green[green['Tip_amount'] != 0]\n",
    "no_tip_by_card = len(green[(green['Tip_amount'] == 0) & (green['Payment_type'] == 1 )])\n",
    "# calcuate the percentage of trips with/without tips\n",
    "no_tip_percent = no_tip / float(len(green)) * 100\n",
    "no_tip_by_card_percent = no_tip_by_card / float(no_tip) * 100\n",
    "print 'Percent of trips without tips: {:.2f}%'.format(no_tip_percent)\n",
    "print 'Percent of trips without tips paid by card {:.2f}% '.format(no_tip_by_card_percent)"
   ]
  },
  {
   "cell_type": "markdown",
   "metadata": {},
   "source": [
    "### Clean the data"
   ]
  },
  {
   "cell_type": "code",
   "execution_count": 129,
   "metadata": {
    "collapsed": true
   },
   "outputs": [],
   "source": [
    "data = green.copy()\n",
    "# calculate tip amount\n",
    "data['tip_percent'] = green['Tip_amount'] / green['Fare_amount'] \n",
    "# get index of valid record (exclude infinute tip percent, NA record and outlier tips record)\n",
    "validIndex = (data['tip_percent']!=float('inf')) & (data['tip_percent']>=0) & (data['Trip_type '].notnull()) & (data['Trip_distance'] != 0) & (data['tip_percent'] < 2) \n",
    "tip_percent = data['tip_percent'][validIndex]\n",
    "data = data[validIndex]"
   ]
  },
  {
   "cell_type": "markdown",
   "metadata": {},
   "source": [
    "### Select feature of the model\n",
    "After some trials, I select the following feature to train the regression model."
   ]
  },
  {
   "cell_type": "code",
   "execution_count": 130,
   "metadata": {},
   "outputs": [
    {
     "name": "stdout",
     "output_type": "stream",
     "text": [
      "Features Selected: Passenger_count, Trip_distance, Fare_amount, Payment_type, Trip_type \n"
     ]
    }
   ],
   "source": [
    "# show the features in training data\n",
    "data.drop(['lpep_pickup_datetime', 'Lpep_dropoff_datetime', 'Pickup_longitude', 'Pickup_latitude', 'Dropoff_longitude', 'Dropoff_latitude','Store_and_fwd_flag','Tolls_amount','Tip_amount','Ehail_fee','Extra','MTA_tax','improvement_surcharge','Total_amount','tip_percent','VendorID','RateCodeID'], axis = 1, inplace = True)\n",
    "print 'Features Selected:', ', '.join(name for name in data.columns.values)"
   ]
  },
  {
   "cell_type": "markdown",
   "metadata": {},
   "source": [
    "### Build the regression model\n",
    "Use the 80% data for training and 20% for testing. Show the trained model and coefficients."
   ]
  },
  {
   "cell_type": "code",
   "execution_count": 131,
   "metadata": {},
   "outputs": [
    {
     "name": "stdout",
     "output_type": "stream",
     "text": [
      "Estimated intercept coefficient: 0.40705875316\n",
      "Number of coefficients: 5\n"
     ]
    },
    {
     "data": {
      "text/html": [
       "<div>\n",
       "<style>\n",
       "    .dataframe thead tr:only-child th {\n",
       "        text-align: right;\n",
       "    }\n",
       "\n",
       "    .dataframe thead th {\n",
       "        text-align: left;\n",
       "    }\n",
       "\n",
       "    .dataframe tbody tr th {\n",
       "        vertical-align: top;\n",
       "    }\n",
       "</style>\n",
       "<table border=\"1\" class=\"dataframe\">\n",
       "  <thead>\n",
       "    <tr style=\"text-align: right;\">\n",
       "      <th></th>\n",
       "      <th>features</th>\n",
       "      <th>estimatedCoefficients</th>\n",
       "    </tr>\n",
       "  </thead>\n",
       "  <tbody>\n",
       "    <tr>\n",
       "      <th>0</th>\n",
       "      <td>Passenger_count</td>\n",
       "      <td>0.000302</td>\n",
       "    </tr>\n",
       "    <tr>\n",
       "      <th>1</th>\n",
       "      <td>Trip_distance</td>\n",
       "      <td>0.001017</td>\n",
       "    </tr>\n",
       "    <tr>\n",
       "      <th>2</th>\n",
       "      <td>Fare_amount</td>\n",
       "      <td>-0.001003</td>\n",
       "    </tr>\n",
       "    <tr>\n",
       "      <th>3</th>\n",
       "      <td>Payment_type</td>\n",
       "      <td>-0.182291</td>\n",
       "    </tr>\n",
       "    <tr>\n",
       "      <th>4</th>\n",
       "      <td>Trip_type</td>\n",
       "      <td>-0.026171</td>\n",
       "    </tr>\n",
       "  </tbody>\n",
       "</table>\n",
       "</div>"
      ],
      "text/plain": [
       "          features  estimatedCoefficients\n",
       "0  Passenger_count               0.000302\n",
       "1    Trip_distance               0.001017\n",
       "2      Fare_amount              -0.001003\n",
       "3     Payment_type              -0.182291\n",
       "4       Trip_type               -0.026171"
      ]
     },
     "execution_count": 131,
     "metadata": {},
     "output_type": "execute_result"
    }
   ],
   "source": [
    "from sklearn.linear_model import LinearRegression\n",
    "lm = LinearRegression()\n",
    "trainLen = int(len(data) * 0.8)\n",
    "lm.fit(data[:trainLen], tip_percent[:trainLen])\n",
    "# show the features and estimated coefficients\n",
    "print 'Estimated intercept coefficient:', lm.intercept_\n",
    "print \"Number of coefficients:\", len(lm.coef_)\n",
    "pd.DataFrame(zip(data.columns, lm.coef_), columns = ['features', 'estimatedCoefficients'])"
   ]
  },
  {
   "cell_type": "markdown",
   "metadata": {},
   "source": [
    "### Test the model and output MSE"
   ]
  },
  {
   "cell_type": "code",
   "execution_count": 132,
   "metadata": {},
   "outputs": [
    {
     "name": "stdout",
     "output_type": "stream",
     "text": [
      "MSE for the test data: 0.00652011613118\n"
     ]
    }
   ],
   "source": [
    "import numpy as np\n",
    "testLen = trainLen + 1\n",
    "mseFull = np.mean((tip_percent[testLen:] - lm.predict(data[testLen:])) ** 2) \n",
    "print 'MSE for the test data:', mseFull "
   ]
  },
  {
   "cell_type": "markdown",
   "metadata": {},
   "source": [
    "# Question 5 \n",
    "## Option C: Search k trip origination points nearest P"
   ]
  },
  {
   "cell_type": "markdown",
   "metadata": {},
   "source": [
    "### Clean the data\n",
    "First we need to find the start time, and location of origination point."
   ]
  },
  {
   "cell_type": "code",
   "execution_count": 120,
   "metadata": {
    "collapsed": true
   },
   "outputs": [],
   "source": [
    "ride = green[['lpep_pickup_datetime', 'Pickup_longitude', 'Pickup_latitude']]"
   ]
  },
  {
   "cell_type": "code",
   "execution_count": 121,
   "metadata": {},
   "outputs": [
    {
     "data": {
      "text/html": [
       "<div>\n",
       "<style>\n",
       "    .dataframe thead tr:only-child th {\n",
       "        text-align: right;\n",
       "    }\n",
       "\n",
       "    .dataframe thead th {\n",
       "        text-align: left;\n",
       "    }\n",
       "\n",
       "    .dataframe tbody tr th {\n",
       "        vertical-align: top;\n",
       "    }\n",
       "</style>\n",
       "<table border=\"1\" class=\"dataframe\">\n",
       "  <thead>\n",
       "    <tr style=\"text-align: right;\">\n",
       "      <th></th>\n",
       "      <th>lpep_pickup_datetime</th>\n",
       "      <th>Pickup_longitude</th>\n",
       "      <th>Pickup_latitude</th>\n",
       "    </tr>\n",
       "  </thead>\n",
       "  <tbody>\n",
       "    <tr>\n",
       "      <th>0</th>\n",
       "      <td>2015-09-01 00:02:34</td>\n",
       "      <td>-73.979485</td>\n",
       "      <td>40.684956</td>\n",
       "    </tr>\n",
       "    <tr>\n",
       "      <th>1</th>\n",
       "      <td>2015-09-01 00:04:20</td>\n",
       "      <td>-74.010796</td>\n",
       "      <td>40.912216</td>\n",
       "    </tr>\n",
       "    <tr>\n",
       "      <th>2</th>\n",
       "      <td>2015-09-01 00:01:50</td>\n",
       "      <td>-73.921410</td>\n",
       "      <td>40.766708</td>\n",
       "    </tr>\n",
       "    <tr>\n",
       "      <th>3</th>\n",
       "      <td>2015-09-01 00:02:36</td>\n",
       "      <td>-73.921387</td>\n",
       "      <td>40.766678</td>\n",
       "    </tr>\n",
       "    <tr>\n",
       "      <th>4</th>\n",
       "      <td>2015-09-01 00:00:14</td>\n",
       "      <td>-73.955482</td>\n",
       "      <td>40.714046</td>\n",
       "    </tr>\n",
       "  </tbody>\n",
       "</table>\n",
       "</div>"
      ],
      "text/plain": [
       "  lpep_pickup_datetime  Pickup_longitude  Pickup_latitude\n",
       "0  2015-09-01 00:02:34        -73.979485        40.684956\n",
       "1  2015-09-01 00:04:20        -74.010796        40.912216\n",
       "2  2015-09-01 00:01:50        -73.921410        40.766708\n",
       "3  2015-09-01 00:02:36        -73.921387        40.766678\n",
       "4  2015-09-01 00:00:14        -73.955482        40.714046"
      ]
     },
     "execution_count": 121,
     "metadata": {},
     "output_type": "execute_result"
    }
   ],
   "source": [
    "ride.head()"
   ]
  },
  {
   "cell_type": "markdown",
   "metadata": {},
   "source": [
    "### Install the package for computing distance"
   ]
  },
  {
   "cell_type": "code",
   "execution_count": 23,
   "metadata": {},
   "outputs": [
    {
     "name": "stdout",
     "output_type": "stream",
     "text": [
      "Requirement already satisfied: geopy in /Users/yifengfan/.local/lib/python2.7/site-packages\r\n"
     ]
    }
   ],
   "source": [
    "# install geopy package and calulate distance\n",
    "! pip install --user geopy\n",
    "from geopy.distance import vincenty"
   ]
  },
  {
   "cell_type": "markdown",
   "metadata": {},
   "source": [
    "### Initialize parameters for search"
   ]
  },
  {
   "cell_type": "code",
   "execution_count": 122,
   "metadata": {
    "collapsed": true
   },
   "outputs": [],
   "source": [
    "# enter latitude and longtitude of point P : P = (latitude, longitude )\n",
    "P = (40.76670, -73.9554)\n",
    "# enter current time\n",
    "cur_time = pd.to_datetime('2015-09-01 00:02:45')\n",
    "# enter wait time (unit is minute)\n",
    "waitTime = 5\n",
    "# enter the number of neighbor you want to search\n",
    "k = 5"
   ]
  },
  {
   "cell_type": "markdown",
   "metadata": {},
   "source": [
    "### Build k nearest search function"
   ]
  },
  {
   "cell_type": "code",
   "execution_count": 141,
   "metadata": {},
   "outputs": [
    {
     "name": "stdout",
     "output_type": "stream",
     "text": [
      "Search successfully!\n"
     ]
    }
   ],
   "source": [
    "# more work can be done: prepartition based on date\n",
    "# ride = ride[:2000]\n",
    "def searchNearestK(P, k, waitTime, ride, cur_time):\n",
    "    distance = []\n",
    "    for index, row in ride.iterrows():\n",
    "        lon = row['Pickup_longitude']\n",
    "        lat = row['Pickup_latitude']\n",
    "        pickupTime = row['lpep_pickup_datetime']\n",
    "        point = (lat, lon)\n",
    "        dist = vincenty(point, P).miles\n",
    "        distance.append([index, pickupTime, lon, lat, dist])\n",
    "    distance.sort(key=lambda x: x[4])\n",
    "    neighbor = []\n",
    "    \n",
    "    for i in range(len(distance)):\n",
    "        if len(neighbor) == k:\n",
    "            break\n",
    "        timeDiff = abs((pd.to_datetime(distance[i][1]) - cur_time).total_seconds() /60)\n",
    "        if timeDiff <= waitTime:\n",
    "            distance[i].append(timeDiff)\n",
    "            neighbor.append(distance[i])\n",
    "            \n",
    "    if len(neighbor) != k:\n",
    "        print 'Do not have enough satisfied points in the neighbors!'\n",
    "    else:\n",
    "        print 'Search successfully!'  \n",
    "    return neighbor\n",
    "                             \n",
    "neighbors = searchNearestK(P, k, waitTime, ride, cur_time)                  "
   ]
  },
  {
   "cell_type": "markdown",
   "metadata": {},
   "source": [
    "### Show the search results "
   ]
  },
  {
   "cell_type": "code",
   "execution_count": 142,
   "metadata": {},
   "outputs": [
    {
     "data": {
      "text/html": [
       "<div>\n",
       "<style>\n",
       "    .dataframe thead tr:only-child th {\n",
       "        text-align: right;\n",
       "    }\n",
       "\n",
       "    .dataframe thead th {\n",
       "        text-align: left;\n",
       "    }\n",
       "\n",
       "    .dataframe tbody tr th {\n",
       "        vertical-align: top;\n",
       "    }\n",
       "</style>\n",
       "<table border=\"1\" class=\"dataframe\">\n",
       "  <thead>\n",
       "    <tr style=\"text-align: right;\">\n",
       "      <th></th>\n",
       "      <th>index</th>\n",
       "      <th>pickupTime</th>\n",
       "      <th>longitude</th>\n",
       "      <th>latitude</th>\n",
       "      <th>distance (miles)</th>\n",
       "      <th>waitTime (min)</th>\n",
       "    </tr>\n",
       "  </thead>\n",
       "  <tbody>\n",
       "    <tr>\n",
       "      <th>0</th>\n",
       "      <td>216</td>\n",
       "      <td>2015-09-01 00:04:53</td>\n",
       "      <td>-73.928482</td>\n",
       "      <td>40.759514</td>\n",
       "      <td>1.496797</td>\n",
       "      <td>2.133333</td>\n",
       "    </tr>\n",
       "    <tr>\n",
       "      <th>1</th>\n",
       "      <td>1258</td>\n",
       "      <td>2015-09-01 00:06:45</td>\n",
       "      <td>-73.931427</td>\n",
       "      <td>40.754387</td>\n",
       "      <td>1.517887</td>\n",
       "      <td>4.000000</td>\n",
       "    </tr>\n",
       "    <tr>\n",
       "      <th>2</th>\n",
       "      <td>180</td>\n",
       "      <td>2015-09-01 00:02:32</td>\n",
       "      <td>-73.929749</td>\n",
       "      <td>40.756447</td>\n",
       "      <td>1.520489</td>\n",
       "      <td>0.216667</td>\n",
       "    </tr>\n",
       "    <tr>\n",
       "      <th>3</th>\n",
       "      <td>331</td>\n",
       "      <td>2015-09-01 00:07:16</td>\n",
       "      <td>-73.937675</td>\n",
       "      <td>40.748703</td>\n",
       "      <td>1.551480</td>\n",
       "      <td>4.516667</td>\n",
       "    </tr>\n",
       "    <tr>\n",
       "      <th>4</th>\n",
       "      <td>37</td>\n",
       "      <td>2015-09-01 00:02:52</td>\n",
       "      <td>-73.952744</td>\n",
       "      <td>40.789124</td>\n",
       "      <td>1.553554</td>\n",
       "      <td>0.116667</td>\n",
       "    </tr>\n",
       "  </tbody>\n",
       "</table>\n",
       "</div>"
      ],
      "text/plain": [
       "   index           pickupTime  longitude   latitude  distance (miles)  \\\n",
       "0    216  2015-09-01 00:04:53 -73.928482  40.759514          1.496797   \n",
       "1   1258  2015-09-01 00:06:45 -73.931427  40.754387          1.517887   \n",
       "2    180  2015-09-01 00:02:32 -73.929749  40.756447          1.520489   \n",
       "3    331  2015-09-01 00:07:16 -73.937675  40.748703          1.551480   \n",
       "4     37  2015-09-01 00:02:52 -73.952744  40.789124          1.553554   \n",
       "\n",
       "   waitTime (min)  \n",
       "0        2.133333  \n",
       "1        4.000000  \n",
       "2        0.216667  \n",
       "3        4.516667  \n",
       "4        0.116667  "
      ]
     },
     "execution_count": 142,
     "metadata": {},
     "output_type": "execute_result"
    }
   ],
   "source": [
    "# descending in distance\n",
    "df = pd.DataFrame(data=neighbors)\n",
    "df.columns = ['index', 'pickupTime', 'longitude', 'latitude', 'distance (miles)', 'waitTime (min)']    \n",
    "df"
   ]
  },
  {
   "cell_type": "markdown",
   "metadata": {},
   "source": [
    "### Analysis on the search algorithms\n",
    "\n",
    "- The search algorithm compute the distance with every other nodes in the specific dataset and it takes O(N) time. It also needs O(k) space to store the nearest points.\n",
    "- However, if time permitted, more work can be done. Since the dataset is larger, the running time for scanning every point can be large. So we need to pre-partition the datasets at first and only search a small portion of dataset when we are given a point.\n",
    "- For example, in this case, since we need to take the time into consideration, we can split the dataset into serveral different time zone. We can split the dataset by date, and search data from the specific date when the date of the querying point is given.\n",
    "- In this case, suppose we have M subdataset, the time complexity will be O(N/M). However, we need to take care of the boundary of the datasets since the date of querying point can be in the midnight and it's at the boundary of two datasets. In such case, we can search dataset of two days and return the cloest result. "
   ]
  }
 ],
 "metadata": {
  "kernelspec": {
   "display_name": "Python 2",
   "language": "python",
   "name": "python2"
  },
  "language_info": {
   "codemirror_mode": {
    "name": "ipython",
    "version": 2
   },
   "file_extension": ".py",
   "mimetype": "text/x-python",
   "name": "python",
   "nbconvert_exporter": "python",
   "pygments_lexer": "ipython2",
   "version": "2.7.13"
  }
 },
 "nbformat": 4,
 "nbformat_minor": 2
}
